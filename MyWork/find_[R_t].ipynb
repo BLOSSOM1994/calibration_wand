{
  "nbformat": 4,
  "nbformat_minor": 0,
  "metadata": {
    "colab": {
      "name": "find [R t].ipynb",
      "provenance": [],
      "authorship_tag": "ABX9TyMKhNlGxVhAORl2jSBKzk86",
      "include_colab_link": true
    },
    "kernelspec": {
      "name": "python3",
      "display_name": "Python 3"
    }
  },
  "cells": [
    {
      "cell_type": "markdown",
      "metadata": {
        "id": "view-in-github",
        "colab_type": "text"
      },
      "source": [
        "<a href=\"https://colab.research.google.com/github/BLOSSOM1994/calibration_wand/blob/main/MyWork/find_%5BR_t%5D.ipynb\" target=\"_parent\"><img src=\"https://colab.research.google.com/assets/colab-badge.svg\" alt=\"Open In Colab\"/></a>"
      ]
    },
    {
      "cell_type": "code",
      "metadata": {
        "id": "FrtvFIOc5yzR"
      },
      "source": [
        "import numpy as np\r\n",
        "from numpy.linalg import inv"
      ],
      "execution_count": 64,
      "outputs": []
    },
    {
      "cell_type": "code",
      "metadata": {
        "id": "sRgX_pkB3vna"
      },
      "source": [
        "k=[[982.4,11.3,226.7],[0,952.8,332.2],[0,0,1]]\r\n",
        "P=[[ 1.66261969e+00 ,-8.17654143e-02 , 1.23960178e-01 , 6.45602651e+02],\r\n",
        " [-4.47337863e-02 , 1.70392526e+00,  1.03474139e-01,  4.64275752e+02],\r\n",
        " [ 8.00546703e-06, -2.66948880e-05 , 5.99850956e-04 , 1.00000000e+00]]"
      ],
      "execution_count": 65,
      "outputs": []
    },
    {
      "cell_type": "code",
      "metadata": {
        "id": "4AJsJHbV5SX9"
      },
      "source": [
        "k=np.array(k).astype(np.float)\r\n",
        "P=np.array(P).astype(np.float)"
      ],
      "execution_count": 66,
      "outputs": []
    },
    {
      "cell_type": "markdown",
      "metadata": {
        "id": "uRVYRqPhIfRC"
      },
      "source": [
        "![11.png](data:image/png;base64,iVBORw0KGgoAAAANSUhEUgAAAOgAAABWCAQAAABvYBL2AAAABGdBTUEAALGPC/xhBQAAACBjSFJNAAB6JgAAgIQAAPoAAACA6AAAdTAAAOpgAAA6mAAAF3CculE8AAAAAmJLR0QA/4ePzL8AAAAJcEhZcwAADsQAAA7EAZUrDhsAAAAHdElNRQfkCAYWDx4xJhlHAAAGR0lEQVR42u2d7ZHbNhCGn/WkAF7SAd0BJyXIHZxbkDvQjSvw0B1wXEGMdKBzBQ7dAZUOwutg80M6nT4oih8AAWL44pcgYrGLxRchvFpR/EAyfuiDp8ojxjtvNX8jkcRP1bKWSlRUVGqpDqmWUjbeWsMe1EviEUXJ/NSuKKxQ6rOcDUrlTyM7ydcI/QzA7x57cgZ8P+vaX/lFKrlHnSzAi0Ml5ws7IPVo+Qdge5H3D7DyqJMF9HKoGDGSja1SUjL9mxcg8Wj5Cni+yPuTvVNnjF4O1Y/85IdsZVwvLvgE7ID3vsyWDHjRl7O8lAwwvnSyg55Trn7VBwyFlPI4rEJZsdMd8B9Xa6gkUkghW1mDpGKkECNupuWm8WmAJ30eIC0kDN6lllSsB5QsSY57yvLsmxRDopCgPGIUUiq2Tva4W/RUezIqah5971EtWHZ4gWhLN5qUFVtqNnsHdaxu89qMrLl4Sdi7U1GoUbKD04vG7jRQ56MERTHk5OSYWJx5tGxE8QyDkndzKsnbmGSFomeSNidKVa+5TozOOHsHJWGNUvTpmqEmGyJSChRDevdJw+qsUU8dmp59U4zXq0WPhpHPmoslYJ7JlpiUGm3v4WQo5TFVKNrUCdigbifAyxVUOazcXs+ugnEoSbcRSnn+xK0GZHuva4zWuOaqKx0cOvuVdOQGgxSDUnSYbtdva+RJszY0ICebpWa5I3W+WEHPZCa+HTLaoSOKZmypu22ITrdDx7yKk4mPZD9ayVDMMdfBSwub0xqOuSV398ZzSEOLrSipu7+Hnm6H3pyFkh8/1SiJgkFfxzJrF1Ng4wqaE8EvLQMdypqKqntTH9bYq8nzdEyQohiFjAKzHz+s3txt0eD9WnmiDRkl+vYWPO/U9/ENNeX1aGspUaLUKOcnMyX1Ib8+uG9DQU6ukGAoKC7XXAvGmoMmSnWy164w89/dvibpcwVFDAlP+sv3ceWC2+jl0AXhw9+dogVOsDg0MiwOjQyLQyPD4tDIsDg0MiwOjQyLQyPDzBwqK6l96xC2pb/5VryzgQmGF1Kvl7PnYKnvw+TePw6obx3CttTblCuZy8nTrfSQdYmVH+qRfepalzvsVk8TykB+aLeJyD/71LWlt9mtcfJD/bNPXetyk90aIT80CPapa11usluD4YdKKpXUDamyId0PHFp6m93ae2av2fa5U9QgY0t6uN3Xm/Bwfw0dI936+unI0qabxaQo2nOEuuaHWhgTYbBPXVvaxm4d2Pcc8EM7lc5pvd0eBvvUtaVt7NaA+KF3yxq21OyvXa77Su/OPrXBP3VrKcpNduvYXmiNHzo+hcI+dW1pO7vVRgVW+KEW9AiEfera0nZ2q4VfW3THJ8kpqeTh/H9FLjYJGY+k8voxAZBUd3b2Ce3ST2pZcf0GZxluLeUDUF7kfacgk0x/2egxlvmhA7UIhn3q3NKaFnbrO3k8HPTeTi39WVIx1MB7/djeA2XNXxdPvGDtBKWH9BW713nk1kvLyDZxa2lGwstVW+//OeqZcPihI+eIcNinTi29z24deJYrKyn5gdEHfWpbN4/4xtNVnr3/Ersv/V9KSdgflf882LCmsFL7lJY2nuJKTsZOPwCh8ENHjYhg2KduLT3UoLSyW/sPeEf80IEGhsQ+dWppV3brwg+NDAs/NDLM7F7ugntYHBoZFodGhsWhkWFxaGRYHBoZFodGhsWhkWFxaAPmzEKdDT90Gsyfhboc/TVANuQq4+X4wDLlRobIHRoS8XcaRO5Qu2TbWQSStf0zb0jJBdk29ECycY9QF2TbwAPJRuzQJrKtBW5m4IFke72HigG+zOMKiqRk+iSfOSPb6m707bvAA8n6CAg7DZyEnQ0/kOwkhN+pqbajybZ/wI29cfiBZAfvHzsTfqen2o4h27ZzM8MPJDsB4Xdqqu04su0dyUrggWTHFr9L+J2aauuSbDuHQLI2RLQSfqem2rok284hkKwtMV0CwjoP9Hp0YYews4NkzyCQrA0RXQm/E1Bt3ZJt5xBIdrKAsF0CvY7fFHUPOzugqWYRSHacgR0Iv9NRbZ3TimcRSHZosc4BYacL9Nol7Owo6bMIJDukSA/C76SBXp2SbecSSLbv4/0JvxNQbZ3TimcUSHYh/EaG5dZfZPgfVA+MU+iUtdYAAAAidEVYdGNvbW1lbnQAUmVuZGVyZWQgYnkgUXVpY2tMYVRlWC5jb20gSdC2AAAAJXRFWHRkYXRlOmNyZWF0ZQAyMDIwLTA4LTA2VDIyOjE1OjMwKzA5OjAwA74/mAAAACV0RVh0ZGF0ZTptb2RpZnkAMjAyMC0wOC0wNlQyMjoxNTozMCswOTowMHLjhyQAAAAASUVORK5CYII=)"
      ]
    },
    {
      "cell_type": "code",
      "metadata": {
        "colab": {
          "base_uri": "https://localhost:8080/"
        },
        "id": "-uWXADTaHhBu",
        "outputId": "8fb110f4-60a1-481d-b4e0-27d03259d9fd"
      },
      "source": [
        "ainv = inv(k)\r\n",
        "ainv"
      ],
      "execution_count": 67,
      "outputs": [
        {
          "output_type": "execute_result",
          "data": {
            "text/plain": [
              "array([[ 1.01791531e-03, -1.20722534e-05, -2.26750998e-01],\n",
              "       [ 0.00000000e+00,  1.04953820e-03, -3.48656591e-01],\n",
              "       [ 0.00000000e+00,  0.00000000e+00,  1.00000000e+00]])"
            ]
          },
          "metadata": {
            "tags": []
          },
          "execution_count": 67
        }
      ]
    },
    {
      "cell_type": "code",
      "metadata": {
        "colab": {
          "base_uri": "https://localhost:8080/"
        },
        "id": "oEfvdRQQJsYa",
        "outputId": "d7e26322-f8fa-4918-e741-5488773aaa0a"
      },
      "source": [
        "# This will return dot product \r\n",
        "res = np.dot(ainv,P) \r\n",
        "# print resulted matrix \r\n",
        "print(res) "
      ],
      "execution_count": 68,
      "outputs": [
        {
          "output_type": "stream",
          "text": [
            "[[ 1.69113083e-03 -9.77473919e-05 -1.10850061e-05  4.24812970e-01]\n",
            " [-4.97409765e-05  1.79764200e-03 -1.00541928e-04  1.38618547e-01]\n",
            " [ 8.00546703e-06 -2.66948880e-05  5.99850956e-04  1.00000000e+00]]\n"
          ],
          "name": "stdout"
        }
      ]
    },
    {
      "cell_type": "code",
      "metadata": {
        "id": "2zR1XlTbKKrB"
      },
      "source": [
        "R=[[-144.6],[49.5],[140.6]]\r\n",
        "T=[[5196.4],[2080.9],[2075.2]]\r\n",
        "R=np.array(R).astype(np.float)\r\n",
        "T=np.array(T).astype(np.float)\r\n",
        "T=T.transpose()"
      ],
      "execution_count": 69,
      "outputs": []
    },
    {
      "cell_type": "code",
      "metadata": {
        "colab": {
          "base_uri": "https://localhost:8080/"
        },
        "id": "zJfTqMYtL_O_",
        "outputId": "8c3dee3a-6674-448e-b26a-218d0e7bbad2"
      },
      "source": [
        "# This will return dot product \r\n",
        "res1 = np.dot(R,T) \r\n",
        "# print resulted matrix \r\n",
        "print(res1)"
      ],
      "execution_count": 70,
      "outputs": [
        {
          "output_type": "stream",
          "text": [
            "[[-751399.44 -300898.14 -300073.92]\n",
            " [ 257221.8   103004.55  102722.4 ]\n",
            " [ 730613.84  292574.54  291773.12]]\n"
          ],
          "name": "stdout"
        }
      ]
    },
    {
      "cell_type": "code",
      "metadata": {
        "colab": {
          "base_uri": "https://localhost:8080/"
        },
        "id": "uUlvmVWlNyTX",
        "outputId": "6e286006-65ad-43c7-b186-3a1609db6215"
      },
      "source": [
        "# This will return dot product \r\n",
        "res2 = np.dot(k,res1) \r\n",
        "# print resulted matrix \r\n",
        "print(res2)"
      ],
      "execution_count": 72,
      "outputs": [
        {
          "output_type": "stream",
          "text": [
            "[[-5.69638046e+08 -2.28111733e+08 -2.27486890e+08]\n",
            " [ 4.87790849e+08  1.95335997e+08  1.94800933e+08]\n",
            " [ 7.30613840e+05  2.92574540e+05  2.91773120e+05]]\n"
          ],
          "name": "stdout"
        }
      ]
    },
    {
      "cell_type": "code",
      "metadata": {
        "id": "qUCq08LnOJzE"
      },
      "source": [
        ""
      ],
      "execution_count": null,
      "outputs": []
    }
  ]
}