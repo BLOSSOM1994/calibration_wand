{
  "nbformat": 4,
  "nbformat_minor": 0,
  "metadata": {
    "colab": {
      "name": "find P by point 1 and 2.ipynb",
      "provenance": [],
      "authorship_tag": "ABX9TyMU3E3eM1SkFTJKlWAYrdPt",
      "include_colab_link": true
    },
    "kernelspec": {
      "name": "python3",
      "display_name": "Python 3"
    }
  },
  "cells": [
    {
      "cell_type": "markdown",
      "metadata": {
        "id": "view-in-github",
        "colab_type": "text"
      },
      "source": [
        "<a href=\"https://colab.research.google.com/github/BLOSSOM1994/calibration_wand/blob/main/MyWork/find_P_by_point_1_and_2.ipynb\" target=\"_parent\"><img src=\"https://colab.research.google.com/assets/colab-badge.svg\" alt=\"Open In Colab\"/></a>"
      ]
    },
    {
      "cell_type": "code",
      "metadata": {
        "id": "u_GCjBLTLnZ_"
      },
      "source": [
        "from PIL import Image\r\n",
        "import numpy as np\r\n",
        "import pandas as pd\r\n",
        "import cv2\r\n",
        "\r\n",
        "#from src.dlt import calculate_transformation_matrix\r\n",
        "#from src.util import *"
      ],
      "execution_count": 224,
      "outputs": []
    },
    {
      "cell_type": "code",
      "metadata": {
        "id": "75RZb1d7P9UF"
      },
      "source": [
        "\r\n",
        "def homography_2d(x, y, u, v):\r\n",
        "    h = np.array([\r\n",
        "        [x[0], y[0], 1, 0, 0, 0, -u[0] * x[0], - u[0] * y[0]],\r\n",
        "        [0, 0, 0, x[0], y[0], 1, -v[0] * x[0], - v[0] * y[0]],\r\n",
        "        [x[1], y[1], 1, 0, 0, 0, -u[1] * x[1], - u[1] * y[1]],\r\n",
        "        [0, 0, 0, x[1], y[1], 1, -v[1] * x[1], - v[1] * y[1]],\r\n",
        "        [x[2], y[2], 1, 0, 0, 0, -u[2] * x[2], - u[2] * y[2]],\r\n",
        "        [0, 0, 0, x[2], y[2], 1, -v[2] * x[2], - v[2] * y[2]],\r\n",
        "        [x[3], y[3], 1, 0, 0, 0, -u[3] * x[3], - u[3] * y[3]],\r\n",
        "        [0, 0, 0, x[3], y[3], 1, -v[3] * x[3], - v[3] * y[3]],\r\n",
        "    ])\r\n",
        "    b = np.array([u[0], v[0], u[1], v[1], u[2], v[2], u[3], v[3]])\r\n",
        "\r\n",
        "    U, sigma, VT = np.linalg.svd(h)\r\n",
        "    Sigma_pinv = np.zeros(h.shape).T\r\n",
        "    Sigma_pinv[:len(sigma), :len(sigma)] = np.diag(1 / sigma[:])\r\n",
        "\r\n",
        "    m = VT.T.dot(Sigma_pinv).dot(U.T).dot(b)\r\n",
        "    p = np.array([[m[0], m[1], m[2]], [m[3], m[4], m[5]], [m[6], m[7], 1]])\r\n",
        "\r\n",
        "    return p"
      ],
      "execution_count": 225,
      "outputs": []
    },
    {
      "cell_type": "code",
      "metadata": {
        "id": "zZeKhSFvP-7m"
      },
      "source": [
        "def homography_3d(x, y, z, u, v):\r\n",
        "    h = []\r\n",
        "    for i in range(len(x)):\r\n",
        "      h.append([x[i], y[i], z[i], 1, 0, 0, 0, 0, -u[i] * x[i], -u[i] * y[i], -u[i] * z[i]])\r\n",
        "      h.append([0, 0, 0, 0, x[i], y[i], z[i], 1, -v[i] * x[i], -v[i] * y[i], -v[i] * z[i]])\r\n",
        "\r\n",
        "    h = np.array(h)\r\n",
        "    b = []\r\n",
        "    for i in range(len(x)):\r\n",
        "      b.append(u[i])\r\n",
        "      b.append(v[i])\r\n",
        "\r\n",
        "    b = np.array(b)\r\n",
        "\r\n",
        "    U, sigma, VT = np.linalg.svd(h)\r\n",
        "\r\n",
        "    Sigma_pinv = np.zeros(h.shape).T\r\n",
        "    Sigma_pinv[:len(sigma), :len(sigma)] = np.diag(1 / sigma[:])\r\n",
        "\r\n",
        "    m = VT.T.dot(Sigma_pinv).dot(U.T).dot(b)\r\n",
        "\r\n",
        "    p = np.array([[m[0], m[1], m[2], m[3]], [m[4], m[5], m[6], m[7]], [m[8], m[9], m[10], 1]])\r\n",
        "\r\n",
        "    return p"
      ],
      "execution_count": 226,
      "outputs": []
    },
    {
      "cell_type": "code",
      "metadata": {
        "id": "uaj1fTkAPBfM"
      },
      "source": [
        "def calculate_transformation_matrix(pts_src, pts_dst):\r\n",
        "    # There must be the same number of world points and pixel points\r\n",
        "    assert (len(pts_dst) == len(pts_src))\r\n",
        "\r\n",
        "    if len(pts_dst[0]) == 2:\r\n",
        "        # At least 4 points are needed to calibrate a plane-to-plane projection\r\n",
        "        assert (len(pts_dst >= 4))\r\n",
        "        x = pts_dst[:, 0]\r\n",
        "        y = pts_dst[:, 1]\r\n",
        "        u = pts_src[:, 0]\r\n",
        "        v = pts_src[:, 1]\r\n",
        "        return homography_2d(x, y, u, v)\r\n",
        "\r\n",
        "\r\n",
        "    elif len(pts_dst[0]) == 3:\r\n",
        "        # At least 6 points to calibrate a 3D projection\r\n",
        "        assert (len(pts_dst >= 6))\r\n",
        "        x = pts_dst[:, 0]\r\n",
        "        y = pts_dst[:, 1]\r\n",
        "        z = pts_dst[:, 2]\r\n",
        "        u = pts_src[:, 0]\r\n",
        "        v = pts_src[:, 1]\r\n",
        "        return homography_3d(x, y, z, u, v)"
      ],
      "execution_count": 227,
      "outputs": []
    },
    {
      "cell_type": "code",
      "metadata": {
        "id": "UbzfIIS2JOEP"
      },
      "source": [
        "image_points=open('camera1.txt',\"r\")\r\n",
        "#image_points=open('camera2.txt',\"r\")\r\n",
        "#image_points=open('camera3.txt',\"r\")\r\n",
        "world_point=open('mokhtasatvaghei.txt',\"r\")"
      ],
      "execution_count": 228,
      "outputs": []
    },
    {
      "cell_type": "code",
      "metadata": {
        "id": "gqZXQCQEL6pK"
      },
      "source": [
        "y=0\r\n",
        "cam_img=[]\r\n",
        "for line in image_points:\r\n",
        "  arr=[]\r\n",
        "  image_coord= line.split()\r\n",
        "  #print(image_coord)\r\n",
        "  i=0\r\n",
        "  for x in image_coord:\r\n",
        "    arr.append(x)\r\n",
        "   # print(x)\r\n",
        "    i=i+1\r\n",
        "  cam_img.append(arr)\r\n",
        "  y=y+1"
      ],
      "execution_count": 229,
      "outputs": []
    },
    {
      "cell_type": "code",
      "metadata": {
        "id": "lwotUxFLMTEK"
      },
      "source": [
        "y=0\r\n",
        "real_img=[]\r\n",
        "for line in world_point:\r\n",
        "  arr=[]\r\n",
        "  world_coord= line.split()\r\n",
        "  #print(image_coord)\r\n",
        "  i=0\r\n",
        "  for x in world_coord:\r\n",
        "    arr.append(x)\r\n",
        "   # print(x)\r\n",
        "    i=i+1\r\n",
        "  arr.pop(3)\r\n",
        "  real_img.append(arr)\r\n",
        "  y=y+1"
      ],
      "execution_count": 230,
      "outputs": []
    },
    {
      "cell_type": "code",
      "metadata": {
        "id": "Z40zWhwOMiXY"
      },
      "source": [
        "# Calculate transformation matrix\r\n",
        "cam_img=np.array(cam_img).astype(np.float)\r\n",
        "real_img=np.array(real_img).astype(np.float)\r\n",
        "\r\n",
        "matrix = calculate_transformation_matrix(cam_img, real_img)\r\n",
        "matrix=str(matrix)\r\n",
        "\r\n",
        "file_name_img= \"cam1.txt\"\r\n",
        "#file_name_img= \"cam2.txt\"\r\n",
        "#file_name_img= \"cam3.txt\"\r\n",
        "file_img = open(file_name_img,\"w+\")\r\n",
        "file_img.write(\"    p :\\n \\t([[m[0], m[1], m[2], m[3]], \\n\\t  [m[4], m[5], m[6], m[7]],\\n\\t  [m[8], m[9], m[10], 1]])\")\r\n",
        "file_img.write(\"\\n.........................\\nfor \")\r\n",
        "file_img.write(image_points.name)\r\n",
        "file_img.write(\"\\n\")\r\n",
        "file_img.write(matrix)\r\n",
        "file_img.close()"
      ],
      "execution_count": 231,
      "outputs": []
    }
  ]
}